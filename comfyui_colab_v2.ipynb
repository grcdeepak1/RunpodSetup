{
 "cells": [
  {
   "cell_type": "code",
   "execution_count": null,
   "metadata": {
    "colab": {
     "base_uri": "https://localhost:8080/"
    },
    "executionInfo": {
     "elapsed": 117450,
     "status": "ok",
     "timestamp": 1705130363878,
     "user": {
      "displayName": "Kevin Patel",
      "userId": "03965975488623430280"
     },
     "user_tz": 480
    },
    "id": "bbbbbbbbbb",
    "outputId": "4d598bd4-abf0-4e06-d75d-7e3ca5497e5e"
   },
   "outputs": [],
   "source": [
    "#@title Environment Setup\n",
    "\n",
    "from pathlib import Path\n",
    "\n",
    "OPTIONS = {}\n",
    "\n",
    "UPDATE_COMFY_UI = True  #@param {type:\"boolean\"}\n",
    "WORKSPACE = 'ComfyUI'\n",
    "OPTIONS['UPDATE_COMFY_UI'] = UPDATE_COMFY_UI\n",
    "\n",
    "![ ! -d $WORKSPACE ] && echo -= Initial setup ComfyUI =- && git clone https://github.com/comfyanonymous/ComfyUI\n",
    "%cd $WORKSPACE\n",
    "\n",
    "if OPTIONS['UPDATE_COMFY_UI']:\n",
    "  !echo -= Updating ComfyUI =-\n",
    "  !git pull\n",
    "\n",
    "!echo -= Install dependencies =-\n",
    "!pip install xformers!=0.0.18 -r requirements.txt --extra-index-url https://download.pytorch.org/whl/cu121 --extra-index-url https://download.pytorch.org/whl/cu118 --extra-index-url https://download.pytorch.org/whl/cu117"
   ]
  },
  {
   "cell_type": "markdown",
   "metadata": {
    "id": "j4EmXbLHLeEp"
   },
   "source": [
    "# Adding custom Nodes"
   ]
  },
  {
   "cell_type": "code",
   "execution_count": null,
   "metadata": {
    "colab": {
     "base_uri": "https://localhost:8080/"
    },
    "executionInfo": {
     "elapsed": 17,
     "status": "ok",
     "timestamp": 1705130363878,
     "user": {
      "displayName": "Kevin Patel",
      "userId": "03965975488623430280"
     },
     "user_tz": 480
    },
    "id": "RpKGW-60Ovu3",
    "outputId": "d176fec2-1a6a-4661-dfd2-d86d9c3697d9"
   },
   "outputs": [],
   "source": [
    "%cd custom_nodes/"
   ]
  },
  {
   "cell_type": "code",
   "execution_count": null,
   "metadata": {
    "colab": {
     "base_uri": "https://localhost:8080/",
     "height": 1000
    },
    "executionInfo": {
     "elapsed": 85838,
     "status": "ok",
     "timestamp": 1705130449703,
     "user": {
      "displayName": "Kevin Patel",
      "userId": "03965975488623430280"
     },
     "user_tz": 480
    },
    "id": "VhPWQxHDjg8T",
    "outputId": "c1504eb8-b1a4-4443-e840-feef5557baf0"
   },
   "outputs": [],
   "source": [
    "!git clone https://github.com/Gourieff/comfyui-reactor-node.git\n",
    "%cd comfyui-reactor-node\n",
    "!python install.py\n",
    "%cd ..\n",
    "!git clone https://github.com/ealkanat/comfyui_easy_padding.git\n",
    "!git clone https://github.com/ssitu/ComfyUI_UltimateSDUpscale --recursive\n",
    "!git clone https://github.com/cubiq/ComfyUI_IPAdapter_plus.git\n",
    "!git clone https://github.com/ltdrdata/ComfyUI-Impact-Pack.git\n",
    "!git clone https://github.com/Kosinkadink/ComfyUI-VideoHelperSuite.git\n",
    "!git clone https://github.com/Kosinkadink/ComfyUI-AnimateDiff-Evolved.git\n",
    "!git clone https://github.com/Kosinkadink/ComfyUI-Advanced-ControlNet.git\n",
    "!git clone https://github.com/TinyTerra/ComfyUI_tinyterraNodes.git\n",
    "!git clone https://github.com/Suzie1/ComfyUI_Comfyroll_CustomNodes.git\n",
    "!git clone https://github.com/cubiq/ComfyUI_essentials.git\n",
    "\n",
    "!git clone https://github.com/Fannovel16/comfyui_controlnet_aux.git\n",
    "%cd comfyui_controlnet_aux\n",
    "!pip install -r requirements.txt;\n",
    "%cd ..\n",
    "\n",
    "!git clone https://github.com/FizzleDorf/ComfyUI_FizzNodes.git\n",
    "%cd ComfyUI_FizzNodes\n",
    "!pip install -r requirements.txt\n",
    "%cd ..\n",
    "\n",
    "%cd ..\n",
    "%ls"
   ]
  },
  {
   "cell_type": "markdown",
   "metadata": {
    "id": "cccccccccc"
   },
   "source": [
    "Download some models/checkpoints/vae or custom comfyui nodes (uncomment the commands for the ones you want)"
   ]
  },
  {
   "cell_type": "code",
   "execution_count": null,
   "metadata": {
    "colab": {
     "base_uri": "https://localhost:8080/"
    },
    "executionInfo": {
     "elapsed": 118269,
     "status": "ok",
     "timestamp": 1705130569562,
     "user": {
      "displayName": "Kevin Patel",
      "userId": "03965975488623430280"
     },
     "user_tz": 480
    },
    "id": "dddddddddd",
    "outputId": "53e2f9ab-f43c-4ebe-aa47-864e4925fecb"
   },
   "outputs": [],
   "source": [
    "# Checkpoints\n",
    "\n",
    "!wget -c https://huggingface.co/misri/realismEngineSDXL_v20VAE/resolve/main/realismEngineSDXL_v20VAE.safetensors -P ./models/checkpoints/\n",
    "!wget -c https://huggingface.co/kevin36524/epicrealism_naturalSinRC1VAE/resolve/main/epicrealism_naturalSinRC1VAE.safetensors -P ./models/checkpoints/\n",
    "!wget -c https://huggingface.co/kevin36524/epicrealism_naturalSinRC1VAE/resolve/main/realisticVisionV60B1_v60B1VAE.safetensors -P ./models/checkpoints/\n",
    "\n",
    "!wget -c https://huggingface.co/guoyww/animatediff/resolve/cd71ae134a27ec6008b968d6419952b0c0494cf2/v3_sd15_mm.ckpt -P ./custom_nodes/ComfyUI-AnimateDiff-Evolved/models/\n",
    "\n",
    "# VAE\n",
    "!wget -c https://huggingface.co/stabilityai/sd-vae-ft-mse-original/resolve/main/vae-ft-mse-840000-ema-pruned.safetensors -P ./models/vae/\n",
    "\n",
    "# Loras\n",
    "!wget -c https://huggingface.co/kevin36524/epicrealism_naturalSinRC1VAE/resolve/main/epiCRealismHelper.safetensors -P ./models/loras\n",
    "\n",
    "# T2I-Adapter\n",
    "\n",
    "# ControlNet\n",
    "!wget -c https://huggingface.co/TencentARC/T2I-Adapter/resolve/main/models/t2iadapter_openpose_sd14v1.pth -P ./models/controlnet/\n",
    "!wget -c https://huggingface.co/TencentARC/T2I-Adapter/resolve/main/models/t2iadapter_canny_sd14v1.pth -P ./models/controlnet/\n",
    "!wget -c https://huggingface.co/kevin36524/epicrealism_naturalSinRC1VAE/resolve/main/control_v11p_sd15_openpose.pth -P ./models/controlnet/\n",
    "\n",
    "# IP Adapter\n",
    "!wget -c https://huggingface.co/h94/IP-Adapter/resolve/main/models/ip-adapter-full-face_sd15.safetensors -P ./models/ipadapter/\n",
    "!wget -c https://huggingface.co/h94/IP-Adapter/resolve/main/models/ip-adapter-plus-face_sd15.safetensors -P ./models/ipadapter/\n",
    "!wget -c https://huggingface.co/h94/IP-Adapter/resolve/main/models/ip-adapter-plus_sd15.safetensors -P ./models/ipadapter/\n",
    "!wget -c https://huggingface.co/h94/IP-Adapter/resolve/main/models/ip-adapter-full-face_sd15.bin -P ./models/ipadapter/\n",
    "!wget -c https://huggingface.co/h94/IP-Adapter/resolve/main/models/ip-adapter-plus-face_sd15.bin -P ./models/ipadapter/\n",
    "!wget -c https://huggingface.co/h94/IP-Adapter/resolve/main/models/ip-adapter-plus_sd15.bin -P ./models/ipadapter/\n",
    "\n",
    "!wget -c https://huggingface.co/h94/IP-Adapter-FaceID/resolve/main/ip-adapter-faceid-plus_sd15.bin -P ./models/ipadapter/\n",
    "!wget -c https://huggingface.co/h94/IP-Adapter-FaceID/resolve/main/ip-adapter-faceid-plusv2_sd15.bin -P ./models/ipadapter/\n",
    "!wget -c https://huggingface.co/h94/IP-Adapter-FaceID/resolve/main/ip-adapter-faceid-plus_sd15_lora.safetensors -P ./models/loras/\n",
    "!wget -c https://huggingface.co/h94/IP-Adapter-FaceID/resolve/main/ip-adapter-faceid-plusv2_sd15_lora.safetensors -P ./models/loras/\n",
    "\n",
    "# CLIPVision model (needed for styles model)\n",
    "!wget -c https://huggingface.co/openai/clip-vit-large-patch14/resolve/main/pytorch_model.bin -O ./models/clip_vision/clip_vit14.bin\n",
    "!wget -c https://huggingface.co/h94/IP-Adapter/resolve/main/models/image_encoder/model.safetensors -O ./models/clip_vision/CLIP-ViT-H-14-laion2B-s32B-b79K-model.safetensors\n",
    "!wget -c https://huggingface.co/h94/IP-Adapter/resolve/main/sdxl_models/image_encoder/model.safetensors -O ./models/clip_vision/CLIP-ViT-bigG-14-laion2B-39B-b160k-model.safetensors\n",
    "\n",
    "# ESRGAN upscale model\n",
    "!wget -c https://huggingface.co/FacehugmanIII/4x_foolhardy_Remacri/resolve/main/4x_foolhardy_Remacri.pth -P ./models/upscale_models\n",
    "\n",
    "# Facestore models\n",
    "!wget -c https://github.com/TencentARC/GFPGAN/releases/download/v1.3.0/GFPGANv1.4.pth -P ./models/facerestore_models\n",
    "\n",
    "!wget -c https://huggingface.co/latent-consistency/lcm-lora-sdv1-5/resolve/main/pytorch_lora_weights.safetensors -O ./models/loras/lcm-lora-sdv1-5_pytorch_lora_weights.safetensors\n"
   ]
  }
 ],
 "metadata": {
  "accelerator": "GPU",
  "colab": {
   "gpuType": "V100",
   "machine_shape": "hm",
   "provenance": []
  },
  "kernelspec": {
   "display_name": "Python 3 (ipykernel)",
   "language": "python",
   "name": "python3"
  },
  "language_info": {
   "codemirror_mode": {
    "name": "ipython",
    "version": 3
   },
   "file_extension": ".py",
   "mimetype": "text/x-python",
   "name": "python",
   "nbconvert_exporter": "python",
   "pygments_lexer": "ipython3",
   "version": "3.10.12"
  }
 },
 "nbformat": 4,
 "nbformat_minor": 4
}
